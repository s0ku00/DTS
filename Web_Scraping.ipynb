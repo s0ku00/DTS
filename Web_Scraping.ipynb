{
  "nbformat": 4,
  "nbformat_minor": 0,
  "metadata": {
    "colab": {
      "provenance": [],
      "authorship_tag": "ABX9TyMODQkkUlo6Qdo8eCh4oIwG",
      "include_colab_link": true
    },
    "kernelspec": {
      "name": "python3",
      "display_name": "Python 3"
    },
    "language_info": {
      "name": "python"
    }
  },
  "cells": [
    {
      "cell_type": "markdown",
      "metadata": {
        "id": "view-in-github",
        "colab_type": "text"
      },
      "source": [
        "<a href=\"https://colab.research.google.com/github/s0ku00/DTS/blob/main/Web_Scraping.ipynb\" target=\"_parent\"><img src=\"https://colab.research.google.com/assets/colab-badge.svg\" alt=\"Open In Colab\"/></a>"
      ]
    },
    {
      "cell_type": "code",
      "source": [
        "'''\n",
        "Instructions\n",
        "\n",
        "1.1) Write a function to Get and parse html content from a Wikipedia page\n",
        "\n",
        "1.2) Write a function to Extract article title\n",
        "\n",
        "1.3) Write a function to Extract article text for each paragraph with their respective\n",
        "\n",
        "headings. Map those headings to their respective paragraphs in the dictionary.\n",
        "\n",
        "1.4) Write a function to collect every link that redirects to another Wikipedia page\n",
        "\n",
        "1.5) Wrap all the previous functions into a single function that takes as parameters a Wikipedia link\n",
        "\n",
        "1.6) Test the last function on a Wikipedia page of your choice\n",
        "'''"
      ],
      "metadata": {
        "colab": {
          "base_uri": "https://localhost:8080/",
          "height": 107
        },
        "id": "wyCBfHb80a4h",
        "outputId": "f1da9cc5-fbd5-44fa-859f-511d77ec2a75"
      },
      "execution_count": 2,
      "outputs": [
        {
          "output_type": "execute_result",
          "data": {
            "text/plain": [
              "'\\nInstructions\\n\\nAfter watching this video below, you will be able to:\\n\\n➡️ https://www.youtube.com/watch?v=YY5skv756pc\\n\\n1.1) Write a function to Get and parse html content from a Wikipedia page\\n\\n1.2) Write a function to Extract article title\\n\\n1.3) Write a function to Extract article text for each paragraph with their respective\\n\\nheadings. Map those headings to their respective paragraphs in the dictionary.\\n\\n1.4) Write a function to collect every link that redirects to another Wikipedia page\\n\\n1.5) Wrap all the previous functions into a single function that takes as parameters a Wikipedia link\\n\\n1.6) Test the last function on a Wikipedia page of your choice\\n'"
            ],
            "application/vnd.google.colaboratory.intrinsic+json": {
              "type": "string"
            }
          },
          "metadata": {},
          "execution_count": 2
        }
      ]
    },
    {
      "cell_type": "code",
      "execution_count": 1,
      "metadata": {
        "colab": {
          "base_uri": "https://localhost:8080/"
        },
        "collapsed": true,
        "id": "5N178qAxzqED",
        "outputId": "9e593530-00de-4f6c-9a60-4aee072c716a"
      },
      "outputs": [
        {
          "output_type": "stream",
          "name": "stdout",
          "text": [
            "Requirement already satisfied: requests in /usr/local/lib/python3.10/dist-packages (2.32.3)\n",
            "Requirement already satisfied: charset-normalizer<4,>=2 in /usr/local/lib/python3.10/dist-packages (from requests) (3.3.2)\n",
            "Requirement already satisfied: idna<4,>=2.5 in /usr/local/lib/python3.10/dist-packages (from requests) (3.8)\n",
            "Requirement already satisfied: urllib3<3,>=1.21.1 in /usr/local/lib/python3.10/dist-packages (from requests) (2.0.7)\n",
            "Requirement already satisfied: certifi>=2017.4.17 in /usr/local/lib/python3.10/dist-packages (from requests) (2024.8.30)\n",
            "Requirement already satisfied: beautifulsoup4 in /usr/local/lib/python3.10/dist-packages (4.12.3)\n",
            "Requirement already satisfied: soupsieve>1.2 in /usr/local/lib/python3.10/dist-packages (from beautifulsoup4) (2.6)\n"
          ]
        }
      ],
      "source": [
        "!pip install requests\n",
        "!pip install beautifulsoup4"
      ]
    },
    {
      "cell_type": "code",
      "source": [
        "import requests\n",
        "from bs4 import BeautifulSoup\n",
        "\n",
        "url = \"https://en.wikipedia.org/wiki/Bermuda_Triangle\""
      ],
      "metadata": {
        "id": "JOmc0k6p0V8a"
      },
      "execution_count": 20,
      "outputs": []
    },
    {
      "cell_type": "code",
      "source": [
        "# 1.1 Function to get and parse HTML content from a Wikipedia page\n",
        "def get_html_content(url):\n",
        "    response = requests.get(url)\n",
        "    if response.status_code == 200:\n",
        "        return BeautifulSoup(response.content, \"html.parser\")\n",
        "    else:\n",
        "        raise Exception(f\"Failed to retrieve content. Status code: {response.status_code}\")"
      ],
      "metadata": {
        "id": "0CW04TZYEoYf"
      },
      "execution_count": 21,
      "outputs": []
    },
    {
      "cell_type": "code",
      "source": [
        "# 1.2 Function to extract the article title\n",
        "def extract_article_title(soup):\n",
        "    title = soup.find('h1', id=\"firstHeading\")\n",
        "    return title.get_text() if title else \"No title found\""
      ],
      "metadata": {
        "id": "NtixMQH_ErGd"
      },
      "execution_count": 22,
      "outputs": []
    },
    {
      "cell_type": "code",
      "source": [
        "# 1.3 Function to extract article text with respective headings\n",
        "def extract_article_text(soup):\n",
        "    content = {}\n",
        "    current_heading = None\n",
        "\n",
        "    # Loop through the content of the article\n",
        "    for tag in soup.find_all(['h2', 'h3', 'h4', 'p']):\n",
        "        if tag.name in ['h2', 'h3', 'h4']:  # If the tag is a heading, update the current heading\n",
        "            current_heading = tag.get_text(strip=True)\n",
        "            content[current_heading] = []\n",
        "        elif tag.name == 'p' and current_heading:  # If the tag is a paragraph, add it under the current heading\n",
        "            content[current_heading].append(tag.get_text(strip=True))\n",
        "\n",
        "    return content\n"
      ],
      "metadata": {
        "id": "ZRsqmzTaE3xt"
      },
      "execution_count": 23,
      "outputs": []
    },
    {
      "cell_type": "code",
      "source": [
        "# 1.4 Function to collect every Wikipedia link\n",
        "def extract_wikipedia_links(soup):\n",
        "    links = set()\n",
        "    base_url = \"https://en.wikipedia.org\"\n",
        "\n",
        "    for link in soup.find_all(\"a\", href=True):\n",
        "        href = link['href']\n",
        "        # Check if the link is a Wikipedia internal link (starts with '/wiki/')\n",
        "        if href.startswith(\"/wiki/\") and ':' not in href:  # Exclude special links like 'Category:', 'File:', etc.\n",
        "            links.add(base_url + href)\n",
        "\n",
        "    return list(links)\n"
      ],
      "metadata": {
        "id": "jPalXcTEE5a4"
      },
      "execution_count": 24,
      "outputs": []
    },
    {
      "cell_type": "code",
      "source": [
        "\n",
        "# 1.5 Wrapper function\n",
        "def analyze_wikipedia_page(url):\n",
        "    soup = get_html_content(url)\n",
        "\n",
        "    # Extracting components\n",
        "    title = extract_article_title(soup)\n",
        "    text_content = extract_article_text(soup)\n",
        "    links = extract_wikipedia_links(soup)\n",
        "\n",
        "    return {\n",
        "        \"title\": title,\n",
        "        \"content\": text_content,\n",
        "        \"links\": links\n",
        "    }"
      ],
      "metadata": {
        "id": "hWzTuloWE_w5"
      },
      "execution_count": 25,
      "outputs": []
    },
    {
      "cell_type": "code",
      "source": [
        "# 1.6 Test the function on a Wikipedia page\n",
        "if __name__ == \"__main__\":\n",
        "    url = \"https://en.wikipedia.org/wiki/Bermuda_Triangle\"\n",
        "    result = analyze_wikipedia_page(url)\n",
        "\n",
        "    # Displaying results\n",
        "    print(\"Article Title:\", result['title'])\n",
        "    print(\"\\nArticle Content Headings and Paragraphs:\")\n",
        "    for heading, paragraphs in result['content'].items():\n",
        "        print(f\"\\nHeading: {heading}\")\n",
        "        for paragraph in paragraphs:\n",
        "            print(f\"- {paragraph}\")\n",
        "\n",
        "    print(\"\\nExtracted Links to Wikipedia Pages:\")\n",
        "    for link in result['links'][:10]:  # Limiting to the first 10 links for readability\n",
        "        print(link)"
      ],
      "metadata": {
        "colab": {
          "base_uri": "https://localhost:8080/"
        },
        "collapsed": true,
        "id": "frVaQc9XERlp",
        "outputId": "7eed2fcb-bb2c-443f-9167-7e4ddd359f42"
      },
      "execution_count": 26,
      "outputs": [
        {
          "output_type": "stream",
          "name": "stdout",
          "text": [
            "Article Title: Bermuda Triangle\n",
            "\n",
            "Article Content Headings and Paragraphs:\n",
            "\n",
            "Heading: Contents\n",
            "- \n",
            "- Reportedly haunted locations:\n",
            "- TheBermuda Triangle, also known as theDevil's Triangle, is a loosely defined region in the western part of the NorthAtlantic Oceanwhere, according to anurban legend,[citation needed]a number ofaircraftandshipsare said to have disappeared under mysterious circumstances. The idea of the area as uniquely prone to disappearances arose in the mid-20th century, but most reputable sources dismiss the idea that there is any mystery.[1][2][3]\n",
            "\n",
            "Heading: Origins\n",
            "- The earliest suggestion of unusual disappearances in the Bermuda area appeared in an article written by Edward Van Winkle Jones of theMiami Heraldthat was distributed by theAssociated Pressand appeared in various American newspapers on 17 September 1950.[4][5][6]\n",
            "- Two years later,Fatemagazine published \"Sea Mystery at Our Back Door\", a short article by George X. Sand that was the first to lay out the now-familiar triangular area where the losses took place.[7]Sand recounted the loss of several planes and ships since World War II: the disappearance ofSandra, atramp steamer;[a]the December 1945 loss ofFlight 19, a group of five US Navytorpedo bomberson a training mission; the January 1948 disappearance ofStar Tiger, aBritish South American Airways(BSAA) passenger airplane; the March 1948 disappearance of a fishingskiffwith three men, including jockeyAlbert Snider;[b]the December 1948 disappearance of anAirborne Transport DC-3charter flight en route from Puerto Rico to Miami; and the January 1949 disappearance ofStar Ariel,[c]another BSAA passenger airplane.[7]\n",
            "- Flight 19 was covered again in the April 1962 issue ofThe American Legion Magazine.[10][11]In it, authorAllan W. Eckertwrote that the flight leader had been heard saying, \"We cannot be sure of any direction ... everything is wrong ... strange ... the ocean doesn't look as it should.\"[11]In February 1964,Vincent Gaddiswrote an article called \"The Deadly Bermuda Triangle\" inArgosysaying Flight 19 and other disappearances were part of a pattern of strange events in the region, dating back to at least 1840.[12][13]The next year, Gaddis expanded this article into a book,Invisible Horizons.[14]\n",
            "- Other writers elaborated on Gaddis' ideas, including John Wallace Spencer (Limbo of the Lost, 1969, repr. 1973);[15]Charles Berlitz(The Bermuda Triangle, 1974);[16]andRichard Winer(The Devil's Triangle, 1974).[17]Various of these authors incorporated supernatural elements.[18]\n",
            "\n",
            "Heading: Triangle area\n",
            "- Sand's article inFatedescribed the area as \"a watery triangle bounded roughly by Florida,BermudaandPuerto Rico\".[7]: 12TheArgosyarticle by Gaddis further delineated the boundaries,[12]giving itsverticesasMiami,San Juan, Puerto Rico, and Bermuda. Subsequent writers did not necessarily follow this definition.[19]Some writers gave different boundaries and vertices to the triangle, with the total area varying from 1.3 to 3.9 million km2(0.50 to 1.51 million sq mi).[19]\"Indeed, some writers even stretch it as far as theIrish coast,\" according to a 1977 BBC program.[2]Consequently, the determination of which accidents occurred inside the triangle depends on which writer reported them.[19]\n",
            "\n",
            "Heading: Criticism of the concept\n",
            "\n",
            "Heading: Larry Kusche\n",
            "- Larry Kusche, author ofThe Bermuda Triangle Mystery: Solved(1975),[1]argued that many claims of Gaddis and subsequent writers were exaggerated, dubious or unverifiable. Kusche's research revealed a number of inaccuracies and inconsistencies between Berlitz's accounts and statements from eyewitnesses, participants, and others involved in the initial incidents. Kusche noted cases where pertinent information went unreported, such as the disappearance of round-the-world yachtsmanDonald Crowhurst, which Berlitz had presented as a mystery, despite clear evidence to the contrary. Another example was the ore-carrier recounted by Berlitz as lost without trace three days out of an Atlantic port when in fact it had been lost three days out of a port with the same name in thePacificOcean. Kusche also argued that a large percentage of the incidents that sparked allegations of the Triangle's mysterious influence actually occurred well outside it. Often his research was simple: he would review period newspapers of the dates of reported incidents and find reports on possibly relevant events, like unusual weather, that were never mentioned in the disappearance stories.\n",
            "- Kusche concluded that:\n",
            "\n",
            "Heading: Further responses\n",
            "- When the BritishChannel 4television programThe Bermuda Triangle(1992)[21]was being produced by John Simmons of Geofilms for theEquinoxseries, the marine insurance marketLloyd's of Londonwas asked if an unusually large number of ships had sunk in the Bermuda Triangle area. Lloyd's determined that large numbers of ships had not sunk there.[3]Lloyd's does not charge higher rates for passing through this area.United States Coast Guardrecords confirm their conclusion. In fact, the number of supposed disappearances is relatively insignificant considering the number of ships and aircraft that pass through on a regular basis.[1]\n",
            "- The Coast Guard is also officially skeptical of the Triangle, noting that they collect and publish, through their inquiries, much documentation contradicting many of the incidents written about by the Triangle authors. In one such incident involving the 1972 explosion and sinking of the tankerV. A. Fogg, the Coast Guard photographed the wreck and recovered several bodies,[22]in contrast with one Triangle author's claim that all the bodies had vanished, with the exception of the captain, who was found sitting in his cabin at his desk, clutching a coffee cup.[15]In addition,V. A. Foggsank off the coast ofTexas, nowhere near the commonly accepted boundaries of the Triangle.\n",
            "- TheNova/HorizonepisodeThe Case of the Bermuda Triangle, aired on 27 June 1976, was highly critical, stating that \"When we've gone back to the original sources or the people involved, the mystery evaporates. Science does not have to answer questions about the Triangle because those questions are not valid in the first place ... Ships and planes behave in the Triangle the same way they behave everywhere else in the world.\"[2]\n",
            "- Skeptical researchers, such as Ernest Taves[23]and Barry Singer,[24]have noted how mysteries and the paranormal are very popular and profitable. This has led to the production of vast amounts of material on topics such as the Bermuda Triangle. They were able to show that some of the pro-paranormal material is often misleading or inaccurate, but its producers continue to market it. Accordingly, they have claimed that the market is biased in favor of books, TV specials, and other media that support the Triangle mystery, and against well-researched material if it espouses a skeptical viewpoint.\n",
            "- In a 2013 study, theWorld Wide Fund for Natureidentified the world's 10 most dangerous waters for shipping, but the Bermuda Triangle was not among them.[25][26]\n",
            "- Benjamin Radford, an author and scientific paranormal investigator, noted in an interview on the Bermuda Triangle that it could be very difficult locating an aircraft lost at sea due to the vast search area, and although the disappearance might be mysterious, that did not make it paranormal or unexplainable. Radford further noted the importance of double-checking information as the mystery surrounding the Bermuda Triangle had been created by people who had neglected to do so.[27]\n",
            "\n",
            "Heading: Hypothetical explanation attempts\n",
            "- Persons accepting the Bermuda Triangle as a real phenomenon have offered a number of explanatory approaches.\n",
            "\n",
            "Heading: Paranormal explanations\n",
            "- Triangle writers have used a number of supernatural concepts to explain the events. One explanation pins the blame on leftover technology from the mythical lost continent ofAtlantis. Sometimes connected to the Atlantis story is the submerged rock formation known as theBimini Roadoff the island ofBiminiin the Bahamas, which is in the Triangle by some definitions. Followers of the purported psychicEdgar Caycetake his prediction that evidence of Atlantis would be found in 1968 as referring to the discovery of the Bimini Road. Believers describe the formation as a road, wall, or other structure, but the Bimini Road is of natural origin.[28]\n",
            "- Some hypothesize that a parallel universe exists in the Bermuda Triangle region, causing a time/space warp that sucks the objects around it into a parallel universe.[29]Others attribute the events toUFOs.[30][31]Charles Berlitz, author of various books on anomalous phenomena, lists several theories attributing the losses in the Triangle to anomalous or unexplained forces.[16]\n",
            "\n",
            "Heading: Natural explanations\n",
            "\n",
            "Heading: Compass variations\n",
            "- Compassproblems are one of the cited phrases in many Triangle incidents. While some have theorized that unusual local magnetic anomalies may exist in the area,[32]such anomalies have not been found. Compasses have naturalmagnetic variationsin relation to themagnetic poles, a fact which navigators have known for centuries.Magnetic (compass) northandgeographic (true) northare exactly the same only for a small number of places – for example, as of 2000[update], in the United States, only those places on a line running fromWisconsinto theGulf of Mexico.[33]But the public may not be as informed, and think there is something mysterious about a compass \"changing\" across an area as large as the Triangle, which it naturally will.[1]\n",
            "\n",
            "Heading: Gulf Stream\n",
            "- TheGulf Stream(Florida Current) is a major surface current, primarily driven bythermohaline circulationthat originates in the Gulf of Mexico and then flows through theStraits of Floridainto the North Atlantic. In essence, it is a river within an ocean, and, like a river, it can and does carry floating objects.[34]It has a maximum surface velocity of about 2 m/s (6.6 ft/s).[35]A small plane making awater landingor a boat having engine trouble can be carried away from its reported position by the current.[36]\n",
            "\n",
            "Heading: Human error\n",
            "- One of the most cited explanations in official inquiries as to the loss of any aircraft or vessel ishuman error.[37]Human stubbornness may have caused businessman Harvey Conover to lose his sailing yacht,Revonoc, as he sailed into the teeth of a storm south of Florida on 1 January 1958.[38]\n",
            "\n",
            "Heading: Violent weather\n",
            "- Hurricanes are powerful storms which form in tropical waters and have historically cost thousands of lives and caused billions of dollars in damage. The sinking ofFrancisco de Bobadilla's Spanish fleet in 1502 was the first recorded instance of a destructive hurricane.[39]These storms have in the past caused a number of incidents related to the Triangle. Many Atlantic hurricanes pass through the Triangle as they recurve off the Eastern Seaboard, and, before the advent ofweather satellites, ships often had little to no warning of a hurricane's approach.[40]\n",
            "- A powerfuldowndraft of cold airwas suspected to be a cause in the sinking ofPride of Baltimoreon 14 May 1986. The crew of the sunken vessel noted the wind suddenly shifted and increased velocity from 32 km/h (20 mph) to 97–145 km/h (60–90 mph). A National Hurricane Center satellite specialist, James Lushine, stated \"during very unstable weather conditions the downburst of cold air from aloft can hit the surface like a bomb, exploding outward like a giant squall line of wind and water.\"[41]\n",
            "\n",
            "Heading: Methane hydrates\n",
            "- An explanation for some of the disappearances has focused on the presence of large fields ofmethanehydrates (a form of natural gas) on thecontinental shelves.[42]Laboratory experiments carried out in Australia have proven that bubbles can, indeed, sink a scale model ship by decreasing the density of the water,[43][44][45]and any wreckage would be deposited on the ocean floor or rapidly dispersed by the Gulf Stream. It has been hypothesized that periodic methaneeruptions(sometimes called \"mud volcanoes\") may produce regions of frothy water that are no longer capable of providing adequatebuoyancyfor ships. If this were the case, such an area forming around a ship could cause it to sink very rapidly and without warning.[46]\n",
            "- Publications by theUSGSdescribe large stores of undersea hydrates worldwide, including theBlake Ridgearea, off the coast of the southeastern United States.[47]However, according to the USGS, no large releases of gas hydrates are believed to have occurred in the Bermuda Triangle for the past 15,000 years.[3]\n",
            "\n",
            "Heading: Notable incidents\n",
            "\n",
            "Heading: HMSAtalanta\n",
            "- The sail training ship HMSAtalanta(originally named HMSJuno) disappeared with her entire crew after setting sail from theRoyal Naval Dockyard, BermudaforFalmouth,Englandon 31 January 1880.[48]It was presumed that she sank in a powerfulstormwhich crossed her route a couple of weeks after she sailed, and that her crew being composed primarily of inexperienced trainees may have been a contributing factor. The search for evidence of her fate attracted worldwide attention at the time (connection is also often made to the 1878 loss of the training shipHMSEurydice, which foundered after departing the Royal Naval Dockyard in Bermuda for Portsmouth on 6 March), and she was alleged decades later to have been a victim of the mysterious triangle, an allegation resoundingly refuted by the research of authorDavid Francis Rainein 1997.[49][50][51][52][53]\n",
            "\n",
            "Heading: USSCyclops\n",
            "- The incident resulting in the single largest loss of life in the history of the US Navy not related to combat occurred when the collierCyclops, carrying a full load ofmanganese oreand with one engine out of action, went missing without a trace with a crew of 306 sometime after 4 March 1918, after departing the island ofBarbados. Although there is no strong evidence for any single theory, many independent theories exist, some blaming storms, some capsizing, and some suggesting thatwartime enemy activitywas to blame for the loss.[54][55]In addition, two ofCyclops's sister ships,ProteusandNereus, were subsequently lost in the North Atlantic duringWorld War II. Both ships were transporting heavy loads of metallic ore similar to that which was loaded onCyclopsduring her fatal voyage.[56]In all three cases structural failure due to overloading with a much denser cargo than designed is considered the most likely cause of sinking.\n",
            "\n",
            "Heading: Carroll A. Deering\n",
            "- Carroll A. Deering, a five-mastedschoonerbuilt in 1919, was found hard aground and abandoned atDiamond Shoals, nearCape Hatteras,North Carolina, on 31 January 1921.FBIinvestigation into theDeeringscrutinized, then ruled out, multiple theories as to why and how the ship was abandoned, including piracy, domestic Communist sabotage and the involvement ofrum-runners.[57]\n",
            "\n",
            "Heading: Flight 19\n",
            "- Flight 19 was a training flight of fiveTBM Avengertorpedo bombers that disappeared on 5 December 1945, while over the Atlantic. The squadron's flight plan was scheduled to take them due east fromFort Lauderdalefor 141 mi (227 km), north for 73 mi (117 km), and then back over a final 140 mi (225 km) leg to complete the exercise. The flight never returned to base. The disappearance was attributed by Navy investigators to navigational error leading to the aircraft running out of fuel.\n",
            "- One of the search and rescue aircraft deployed to look for them, aPBM Marinerwith a 13-man crew, also disappeared. A tanker off the coast of Florida reported seeing an explosion[58]and observing a widespread oil slick when fruitlessly searching for survivors. The weather was becoming stormy by the end of the incident.[59]According to contemporaneous sources, the Mariner had a history of explosions due to vapor leaks when heavily loaded with fuel, as it might have been for a potentially long search-and-rescue operation.[60]\n",
            "\n",
            "Heading: Star TigerandStar Ariel\n",
            "- G-AHNPStar Tigerdisappeared on 30 January 1948, on a flight from theAzoresto Bermuda;G-AGREStar Arieldisappeared on 17 January 1949, on a flight from Bermuda toKingston, Jamaica. Both wereAvroTudor IVpassenger aircraft operated byBritish South American Airways.[61]Both planes were operating at the very limits of their range and the slightest error or fault in the equipment could keep them from reaching the small island.[1]\n",
            "\n",
            "Heading: Douglas DC-3\n",
            "- On 28 December 1948, aDouglas DC-3aircraft, numberNC16002, disappeared while on a flight from San Juan, Puerto Rico, to Miami. No trace of the aircraft, or the 32 people on board, was ever found. A Civil Aeronautics Board investigation found there was insufficient information available on which to determine probable cause of the disappearance.[62]\n",
            "\n",
            "Heading: Connemara IV\n",
            "- A pleasure yacht was found adrift in the Atlantic south of Bermuda on 26 September 1955; it is usually stated in the stories (Berlitz, Winer)[16][17]that the crew vanished while the yacht survived being at sea during three hurricanes. The1955 Atlantic hurricane seasonshowsHurricane Ionepassing nearby between 14 and 18 September, with Bermuda being affected by winds of almost gale force.[1]In his second book on the Bermuda Triangle, Winer quoted from a letter he had received from Mr J.E. Challenor of Barbados:[63]\n",
            "- On the morning of September 22,Connemara IVwas lying to a heavy mooring in the openroadsteadofCarlisle Bay. Because of the approaching hurricane, the owner strengthened the mooring ropes and put out two additional anchors. There was little else he could do, as the exposed mooring was the only available anchorage. ... In Carlisle Bay, the sea in the wake ofHurricane Janetwas awe-inspiring and dangerous. The owner ofConnemara IVobserved that she had disappeared. An investigation revealed that she had dragged her moorings and gone to sea.\n",
            "\n",
            "Heading: KC-135 Stratotankers\n",
            "- On 28 August 1963, a pair ofUS Air ForceKC-135 Stratotankeraircraft collided and crashed into the Atlantic 300 miles (480 km) west of Bermuda.[64][65]Some writers[12][16][17]say that while the two aircraft did collide, there were two distinct crash sites, separated by over 160 miles (260 km) of water. However, Kusche's research showed that the unclassified version of the Air Force investigation report revealed that the debris field defining the second \"crash site\" was examined by a search and rescue ship, and found to be a mass ofseaweedanddriftwoodtangled in an oldbuoy.[1]\n",
            "\n",
            "Heading: See also\n",
            "\n",
            "Heading: Notes\n",
            "\n",
            "Heading: References\n",
            "\n",
            "Heading: Citations\n",
            "\n",
            "Heading: Bibliography\n",
            "- The incidents cited above, apart from the official documentation, come from the following works. Some incidents mentioned as having taken place within the Triangle are foundonlyin these sources:\n",
            "- Further reading\n",
            "- ProQuesthas newspaper source material for many incidents, archived inPortable Document Format(PDF). The newspapers includeThe New York Times,The Washington Post, andThe Atlanta Constitution. To access this website, registration is required, usually through a library connected to a college or university.\n",
            "- Flight 19\n",
            "- SSCotopaxi\n",
            "- USSCyclops(AC-4)\n",
            "- Carroll A. Deering\n",
            "- Wreckers\n",
            "- S.S.Suduffco\n",
            "- Star TigerandStar Ariel\n",
            "- DC-3 Airliner NC16002 disappearance\n",
            "- Harvey Conover andRevonoc\n",
            "- KC-135 Stratotankers\n",
            "- B-52 Bomber (Pogo 22)\n",
            "- Charter vesselSno'Boy\n",
            "- SSMarine Sulphur Queen\n",
            "- SSSylvia L. Ossa\n",
            "- The following websites have either online material that supports the popular version of the Bermuda Triangle, or documents published from official sources as part of hearings or inquiries, such as those conducted by the United States Navy or United States Coast Guard. Copies of some inquiries are not online and may have to be ordered; for example, the losses of Flight 19 or USS Cyclops can be ordered direct from the United States Naval Historical Center.\n",
            "- Most of the works listed here are largely out of print. Copies may be obtained at your local library, or purchased used at bookstores, or through eBay or Amazon.com. These books are often theonlysource material for some of the incidents that have taken place within the Triangle.\n",
            "\n",
            "Heading: External links\n",
            "\n",
            "Extracted Links to Wikipedia Pages:\n",
            "https://en.wikipedia.org/wiki/Douglas_DC-3\n",
            "https://en.wikipedia.org/wiki/Roadstead\n",
            "https://en.wikipedia.org/wiki/S2CID_(identifier)\n",
            "https://en.wikipedia.org/wiki/Mediumship\n",
            "https://en.wikipedia.org/wiki/Sensationalism\n",
            "https://en.wikipedia.org/wiki/Electronic_voice_phenomenon\n",
            "https://en.wikipedia.org/wiki/Junk_science\n",
            "https://en.wikipedia.org/wiki/Scientific_method\n",
            "https://en.wikipedia.org/wiki/Grumman_TBF_Avenger\n",
            "https://en.wikipedia.org/wiki/National_Park_Foundation\n"
          ]
        }
      ]
    }
  ]
}