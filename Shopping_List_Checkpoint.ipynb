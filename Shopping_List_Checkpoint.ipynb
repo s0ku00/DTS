{
  "cells": [
    {
      "cell_type": "markdown",
      "metadata": {
        "id": "view-in-github",
        "colab_type": "text"
      },
      "source": [
        "<a href=\"https://colab.research.google.com/github/s0ku00/DTS/blob/main/Shopping_List_Checkpoint.ipynb\" target=\"_parent\"><img src=\"https://colab.research.google.com/assets/colab-badge.svg\" alt=\"Open In Colab\"/></a>"
      ]
    },
    {
      "cell_type": "code",
      "execution_count": null,
      "metadata": {
        "colab": {
          "background_save": true,
          "base_uri": "https://localhost:8080/"
        },
        "id": "QxoZ_v5R2Iug",
        "outputId": "1486972a-b2e6-46f5-9a81-2d0de75060f5"
      },
      "outputs": [
        {
          "name": "stdout",
          "output_type": "stream",
          "text": [
            "\n",
            "Shopping List Menu:\n",
            "1. Add item\n",
            "2. Remove item\n",
            "3. View list\n",
            "4. Exit\n",
            "Your shopping list is empty.\n",
            "\n",
            "Shopping List Menu:\n",
            "1. Add item\n",
            "2. Remove item\n",
            "3. View list\n",
            "4. Exit\n",
            "'Apple' has been added to the list.\n",
            "\n",
            "Shopping List Menu:\n",
            "1. Add item\n",
            "2. Remove item\n",
            "3. View list\n",
            "4. Exit\n",
            "'Pear' has been added to the list.\n",
            "\n",
            "Shopping List Menu:\n",
            "1. Add item\n",
            "2. Remove item\n",
            "3. View list\n",
            "4. Exit\n"
          ]
        }
      ],
      "source": [
        "shopping_list = []\n",
        "\n",
        "max_items = 5\n",
        "\n",
        "while True:\n",
        "\n",
        "    print(\"\\nShopping List Menu:\")\n",
        "    print(\"1. Add item\")\n",
        "    print(\"2. Remove item\")\n",
        "    print(\"3. View list\")\n",
        "    print(\"4. Exit\")\n",
        "\n",
        "    choice = input(\"Enter your choice (1-4): \")\n",
        "\n",
        "    if choice == '1':  #Add Item\n",
        "        if len(shopping_list) < max_items:\n",
        "            item = input(\"Enter the item to add: \")\n",
        "            shopping_list.append(item)\n",
        "            print(f\"'{item}' has been added to the list.\")\n",
        "        else:\n",
        "            print(\"Sorry, the maximum number of items reached.\")\n",
        "    elif choice == '2':  # Remove item\n",
        "        item = input(\"Enter the item to remove: \")\n",
        "        if item in shopping_list:\n",
        "            shopping_list.remove(item)\n",
        "            print(f\"'{item}' has been removed from the list.\")\n",
        "        else:\n",
        "            print(f\"'{item}' is not in the list.\")\n",
        "    elif choice == '3':  # View list\n",
        "        if shopping_list:  # If the shopping list is not empty\n",
        "          print(\"Current shopping list:\")\n",
        "          index = 1\n",
        "          for item in shopping_list:\n",
        "            print(f\"{index}. {item}\")\n",
        "            index += 1\n",
        "        else:\n",
        "            print(\"Your shopping list is empty.\")\n",
        "    elif choice == '4':  # Exit\n",
        "        print(\"Exiting the program.\")\n",
        "        break\n",
        "    else:\n",
        "        print(\"Invalid choice. Please enter a number between 1 and 4.\")"
      ]
    }
  ],
  "metadata": {
    "colab": {
      "provenance": [],
      "authorship_tag": "ABX9TyPMVjRAY9r7L8qiQQ51p9XZ",
      "include_colab_link": true
    },
    "kernelspec": {
      "display_name": "Python 3",
      "name": "python3"
    },
    "language_info": {
      "name": "python"
    }
  },
  "nbformat": 4,
  "nbformat_minor": 0
}