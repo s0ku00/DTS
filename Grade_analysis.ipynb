{
  "nbformat": 4,
  "nbformat_minor": 0,
  "metadata": {
    "colab": {
      "provenance": [],
      "authorship_tag": "ABX9TyPMy+si/ARX3LwIWPuLyB0w",
      "include_colab_link": true
    },
    "kernelspec": {
      "name": "python3",
      "display_name": "Python 3"
    },
    "language_info": {
      "name": "python"
    }
  },
  "cells": [
    {
      "cell_type": "markdown",
      "metadata": {
        "id": "view-in-github",
        "colab_type": "text"
      },
      "source": [
        "<a href=\"https://colab.research.google.com/github/s0ku00/DTS/blob/main/Grade_analysis.ipynb\" target=\"_parent\"><img src=\"https://colab.research.google.com/assets/colab-badge.svg\" alt=\"Open In Colab\"/></a>"
      ]
    },
    {
      "cell_type": "code",
      "execution_count": null,
      "metadata": {
        "id": "c5AG6ORn7xFy"
      },
      "outputs": [],
      "source": [
        "import numpy as np"
      ]
    },
    {
      "cell_type": "code",
      "source": [
        "# 1-D array\n",
        "grades = np.array( [85, 90, 88, 92, 95, 80, 75, 98, 89, 83] )\n",
        "print(grades)"
      ],
      "metadata": {
        "colab": {
          "base_uri": "https://localhost:8080/"
        },
        "id": "TRrAw9ZsBdbJ",
        "outputId": "12b6e4dd-db03-4116-aa40-ae0f2ee646fd"
      },
      "execution_count": 44,
      "outputs": [
        {
          "output_type": "stream",
          "name": "stdout",
          "text": [
            "[85 90 88 92 95 80 75 98 89 83]\n"
          ]
        }
      ]
    },
    {
      "cell_type": "code",
      "source": [
        "print(\"Mean:\", np.mean(grades))"
      ],
      "metadata": {
        "colab": {
          "base_uri": "https://localhost:8080/"
        },
        "id": "FOuuRasKB0nc",
        "outputId": "98e2a096-cede-48e7-f32f-3f968a9d80e3"
      },
      "execution_count": 26,
      "outputs": [
        {
          "output_type": "stream",
          "name": "stdout",
          "text": [
            "Mean: 87.5\n"
          ]
        }
      ]
    },
    {
      "cell_type": "code",
      "source": [
        "print(\"Median:\", np.median(grades))"
      ],
      "metadata": {
        "colab": {
          "base_uri": "https://localhost:8080/"
        },
        "id": "rkrkG-hLDDql",
        "outputId": "4f1bdb28-d883-46ae-8805-64b628234081"
      },
      "execution_count": 27,
      "outputs": [
        {
          "output_type": "stream",
          "name": "stdout",
          "text": [
            "Median: 88.5\n"
          ]
        }
      ]
    },
    {
      "cell_type": "code",
      "source": [
        "print(\"Standard deviation:\", np.std(grades))"
      ],
      "metadata": {
        "colab": {
          "base_uri": "https://localhost:8080/"
        },
        "id": "SB3kG43QDqAQ",
        "outputId": "5cbaa301-dc93-4696-9e02-6af3ef75f4d3"
      },
      "execution_count": 28,
      "outputs": [
        {
          "output_type": "stream",
          "name": "stdout",
          "text": [
            "Standard deviation: 6.591661399070799\n"
          ]
        }
      ]
    },
    {
      "cell_type": "code",
      "source": [
        "# Maximum and Minimum Values\n",
        "print(\"The maximum grade is\", np.max(grades))\n",
        "print(\"The minimun grade is\", np.min(grades))"
      ],
      "metadata": {
        "colab": {
          "base_uri": "https://localhost:8080/"
        },
        "id": "hm75adZ3Dwe6",
        "outputId": "870aa036-ef30-4913-e428-b6c5082423d8"
      },
      "execution_count": 11,
      "outputs": [
        {
          "output_type": "stream",
          "name": "stdout",
          "text": [
            "The maximum grade is 98\n",
            "The minimun grade is 75\n"
          ]
        }
      ]
    },
    {
      "cell_type": "code",
      "source": [
        "# Grades in ascending order\n",
        "print(np.sort(grades))"
      ],
      "metadata": {
        "colab": {
          "base_uri": "https://localhost:8080/"
        },
        "id": "vfm4-9ydmm48",
        "outputId": "4a5dbbe1-ca20-423c-d6a7-e86b3f6a5f6c"
      },
      "execution_count": 46,
      "outputs": [
        {
          "output_type": "stream",
          "name": "stdout",
          "text": [
            "[75 80 83 85 88 89 90 92 95 98]\n"
          ]
        }
      ]
    },
    {
      "cell_type": "code",
      "source": [
        "# Index of the highest grade\n",
        "print(np.argmax(grades))"
      ],
      "metadata": {
        "colab": {
          "base_uri": "https://localhost:8080/"
        },
        "id": "nYYoeQ4TFlhJ",
        "outputId": "e8fac304-70cc-49c7-d264-b713f037bda9"
      },
      "execution_count": 43,
      "outputs": [
        {
          "output_type": "stream",
          "name": "stdout",
          "text": [
            "7\n"
          ]
        }
      ]
    },
    {
      "cell_type": "code",
      "source": [
        "# Number of students who scored above 90\n",
        "print(np.count_nonzero(grades > 90))"
      ],
      "metadata": {
        "colab": {
          "base_uri": "https://localhost:8080/"
        },
        "id": "HXhGcmOeGuPN",
        "outputId": "07986044-cfad-4759-bbce-0b6c4221267c"
      },
      "execution_count": 24,
      "outputs": [
        {
          "output_type": "stream",
          "name": "stdout",
          "text": [
            "3\n"
          ]
        }
      ]
    },
    {
      "cell_type": "code",
      "source": [
        "# Percentage of students who scored above 90\n",
        "print(f\"{np.mean(grades > 90) * 100}%\")"
      ],
      "metadata": {
        "colab": {
          "base_uri": "https://localhost:8080/"
        },
        "id": "8MNT4a9nIed1",
        "outputId": "05757c3c-02bc-4167-e39a-2e9caf86c1fb"
      },
      "execution_count": 40,
      "outputs": [
        {
          "output_type": "stream",
          "name": "stdout",
          "text": [
            "30.0%\n"
          ]
        }
      ]
    },
    {
      "cell_type": "code",
      "source": [
        "# Percentage of students who scored below 75\n",
        "print(f\"{np.mean(grades < 75)}%\")"
      ],
      "metadata": {
        "colab": {
          "base_uri": "https://localhost:8080/"
        },
        "id": "PQU2cGjSIuWp",
        "outputId": "98bf70a4-3146-4d14-9106-891f2fe2a532"
      },
      "execution_count": 39,
      "outputs": [
        {
          "output_type": "stream",
          "name": "stdout",
          "text": [
            "0.0%\n"
          ]
        }
      ]
    },
    {
      "cell_type": "code",
      "source": [
        "# Grades above 90\n",
        "high_performers = np.array(grades[grades > 90])\n",
        "print(high_performers)"
      ],
      "metadata": {
        "colab": {
          "base_uri": "https://localhost:8080/"
        },
        "id": "3Vmrly10eEGa",
        "outputId": "fe1da60f-af25-458a-a9b1-7a12e86dcf72"
      },
      "execution_count": 36,
      "outputs": [
        {
          "output_type": "stream",
          "name": "stdout",
          "text": [
            "[92 95 98]\n"
          ]
        }
      ]
    },
    {
      "cell_type": "code",
      "source": [
        "# Grades above 75\n",
        "passing_grades = np.array(grades[grades > 75])\n",
        "print(passing_grades)"
      ],
      "metadata": {
        "colab": {
          "base_uri": "https://localhost:8080/"
        },
        "id": "2DHYm2DtgPAi",
        "outputId": "aa091f5a-0ac3-45b3-8c9f-4d99ee562c58"
      },
      "execution_count": 45,
      "outputs": [
        {
          "output_type": "stream",
          "name": "stdout",
          "text": [
            "[85 90 88 92 95 80 98 89 83]\n"
          ]
        }
      ]
    }
  ]
}