{
  "nbformat": 4,
  "nbformat_minor": 0,
  "metadata": {
    "colab": {
      "provenance": [],
      "authorship_tag": "ABX9TyNpvId5o6prK02+cgobC5EK",
      "include_colab_link": true
    },
    "kernelspec": {
      "name": "python3",
      "display_name": "Python 3"
    },
    "language_info": {
      "name": "python"
    }
  },
  "cells": [
    {
      "cell_type": "markdown",
      "metadata": {
        "id": "view-in-github",
        "colab_type": "text"
      },
      "source": [
        "<a href=\"https://colab.research.google.com/github/s0ku00/DTS/blob/main/Calculator.ipynb\" target=\"_parent\"><img src=\"https://colab.research.google.com/assets/colab-badge.svg\" alt=\"Open In Colab\"/></a>"
      ]
    },
    {
      "cell_type": "code",
      "execution_count": 3,
      "metadata": {
        "colab": {
          "base_uri": "https://localhost:8080/"
        },
        "id": "iw_rgqlGaKSp",
        "outputId": "57cb1c81-585c-4c74-d58f-3d88b864e823"
      },
      "outputs": [
        {
          "name": "stdout",
          "output_type": "stream",
          "text": [
            "Enter the first number: 2\n",
            "Available operations:\n",
            "+ - * / \n",
            "Choose an operation: *\n",
            "Enter the second number: 12\n",
            "2.0 * 12.0 = 24.0\n",
            "Do you want to continue with the result? (yes/no): no\n",
            "Do you want to start a new calculation? (yes/no): no\n"
          ]
        }
      ],
      "source": [
        "# Dictionary mapping operation symbols to lambda functions\n",
        "operations = {\n",
        "    '+': lambda x, y: x + y,\n",
        "    '-': lambda x, y: x - y,\n",
        "    '*': lambda x, y: x * y,\n",
        "    '/': lambda x, y: x / y if y != 0 else \"Error: Division by zero\"\n",
        "}\n",
        "\n",
        "def calculator():\n",
        "    while True:\n",
        "        num1 = float(input(\"Enter the first number: \"))\n",
        "\n",
        "        print(\"Available operations:\")\n",
        "        for symbol in operations.keys():\n",
        "            print(symbol, end=\" \")\n",
        "        print()\n",
        "\n",
        "        should_continue = True\n",
        "        while should_continue:\n",
        "            operation_symbol = input(\"Choose an operation: \")\n",
        "            if operation_symbol not in operations:\n",
        "                print(\"Invalid operation symbol!\")\n",
        "                continue\n",
        "\n",
        "            num2 = float(input(\"Enter the second number: \"))\n",
        "\n",
        "            # Retrieve corresponding function from dictionary\n",
        "            calculation_function = operations[operation_symbol]\n",
        "\n",
        "            # Perform calculation\n",
        "            answer = calculation_function(num1, num2)\n",
        "            print(f\"{num1} {operation_symbol} {num2} = {answer}\")\n",
        "\n",
        "            # Ask if user wants to continue using the result\n",
        "            choice = input(\"Do you want to continue with the result? (yes/no): \")\n",
        "            if choice.lower() == 'yes':\n",
        "                num1 = answer\n",
        "            else:\n",
        "                should_continue = False\n",
        "\n",
        "        # Ask if the user wants to start a new calculation\n",
        "        restart = input(\"Do you want to start a new calculation? (yes/no): \")\n",
        "        if restart.lower() != 'yes':\n",
        "            break\n",
        "\n",
        "calculator()"
      ]
    }
  ]
}