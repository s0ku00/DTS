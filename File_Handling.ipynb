{
  "nbformat": 4,
  "nbformat_minor": 0,
  "metadata": {
    "colab": {
      "provenance": [],
      "authorship_tag": "ABX9TyMjbEW9gSP6o2ip5ivgFX20",
      "include_colab_link": true
    },
    "kernelspec": {
      "name": "python3",
      "display_name": "Python 3"
    },
    "language_info": {
      "name": "python"
    }
  },
  "cells": [
    {
      "cell_type": "markdown",
      "metadata": {
        "id": "view-in-github",
        "colab_type": "text"
      },
      "source": [
        "<a href=\"https://colab.research.google.com/github/s0ku00/DTS/blob/main/File_Handling.ipynb\" target=\"_parent\"><img src=\"https://colab.research.google.com/assets/colab-badge.svg\" alt=\"Open In Colab\"/></a>"
      ]
    },
    {
      "cell_type": "code",
      "source": [
        "import numpy as np\n"
      ],
      "metadata": {
        "id": "LVKRC3Cohub7"
      },
      "execution_count": 16,
      "outputs": []
    },
    {
      "cell_type": "code",
      "source": [
        "# Open the CSV file using the open() function\n",
        "with open('Loan_prediction_dataset.csv', 'r') as file:\n",
        "    # Read the contents of the file\n",
        "   loan_info = file.read()\n",
        "\n",
        "# To specify that the values in the file are separated by commas.\n",
        "loan_data = np.genfromtxt('Loan_prediction_dataset.csv', delimiter=',')\n"
      ],
      "metadata": {
        "id": "l_1zxoDq7Q2Q"
      },
      "execution_count": 17,
      "outputs": []
    },
    {
      "cell_type": "code",
      "source": [
        "# Finding the mean, median, and standard deviation of the loan amounts.\n",
        "\n",
        "loan_amounts = loan_data[1:, 8]   # Assigning a variable to the column: LoanAmount\n",
        "\n",
        "loan_amounts_not_null= loan_amounts[~np.isnan(loan_amounts)] #Removing NaN values from the column\n"
      ],
      "metadata": {
        "id": "OjTkG2Sb9eYS"
      },
      "execution_count": 32,
      "outputs": []
    },
    {
      "cell_type": "code",
      "source": [
        "#Calculating the Mean, Median and Standard Deviation using Numpy\n",
        "mean_loan_amount = np.mean(loan_amounts_not_null)\n",
        "median_loan_amount = np.median(loan_amounts_not_null)\n",
        "std_dev_loan_amount = np.std(loan_amounts_not_null)\n",
        "\n",
        "print(\"Mean loan amount:\", mean_loan_amount)\n",
        "print(\"Median loan amount:\", median_loan_amount)\n",
        "print(\"Standard deviation of loan amount:\", std_dev_loan_amount)"
      ],
      "metadata": {
        "colab": {
          "base_uri": "https://localhost:8080/"
        },
        "id": "vq6CgcfO_0m0",
        "outputId": "214aa525-f05d-4b1f-8e88-c4e6ecae5aac"
      },
      "execution_count": 33,
      "outputs": [
        {
          "output_type": "stream",
          "name": "stdout",
          "text": [
            "Mean loan amount: 146.41216216216216\n",
            "Median loan amount: 128.0\n",
            "Standard deviation of loan amount: 85.51500809120331\n"
          ]
        }
      ]
    }
  ]
}