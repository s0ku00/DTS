{
  "nbformat": 4,
  "nbformat_minor": 0,
  "metadata": {
    "colab": {
      "provenance": [],
      "authorship_tag": "ABX9TyOS9XR9rkaRS+vwcO5ClelC",
      "include_colab_link": true
    },
    "kernelspec": {
      "name": "python3",
      "display_name": "Python 3"
    },
    "language_info": {
      "name": "python"
    }
  },
  "cells": [
    {
      "cell_type": "markdown",
      "metadata": {
        "id": "view-in-github",
        "colab_type": "text"
      },
      "source": [
        "<a href=\"https://colab.research.google.com/github/s0ku00/DTS/blob/main/calculator_2_0.ipynb\" target=\"_parent\"><img src=\"https://colab.research.google.com/assets/colab-badge.svg\" alt=\"Open In Colab\"/></a>"
      ]
    },
    {
      "cell_type": "code",
      "execution_count": 8,
      "metadata": {
        "id": "bzYc4pc4L1n9"
      },
      "outputs": [],
      "source": [
        "import math\n",
        "\n",
        "class Calculator:\n",
        "    def __init__(self):\n",
        "        # Dictionary: mathematical operations and their functions\n",
        "        self.operations = {\n",
        "            '+': self.add,\n",
        "            '-': self.subtract,\n",
        "            '*': self.multiply,\n",
        "            '/': self.divide\n",
        "        }\n",
        "\n",
        "\n",
        "    # Add new operation symbols and corresponding function to the dictionary\n",
        "    def add_operation(self, symbol, func):\n",
        "        self.operations[symbol] = func\n",
        "\n",
        "    def calculate(self, num1, op, num2):\n",
        "        # Check if the operation symbol is valid\n",
        "        if op not in self.operations:\n",
        "            raise ValueError(\"Invalid operation symbol.\")\n",
        "        # Check if the input values are numbers\n",
        "        if not (isinstance(num1, (int, float)) and isinstance(num2, (int, float))):\n",
        "            raise ValueError(\"Invalid input numbers.\")\n",
        "\n",
        "        # Get the corresponding function for the operation symbol\n",
        "        operation_func = self.operations[op]\n",
        "        try:\n",
        "            # Perform the calculation\n",
        "            result = operation_func(num1, num2)\n",
        "            return result\n",
        "        except ZeroDivisionError:\n",
        "            # Handle division by zero error\n",
        "            raise ValueError(\"Error: Cannot divide by zero.\")\n",
        "\n",
        "    # Basic mathematical operation methods\n",
        "    def add(self, x, y):\n",
        "        return x + y\n",
        "\n",
        "    def subtract(self, x, y):\n",
        "        return x - y\n",
        "\n",
        "    def multiply(self, x, y):\n",
        "        return x * y\n",
        "\n",
        "    def divide(self, x, y):\n",
        "        return x / y"
      ]
    },
    {
      "cell_type": "code",
      "source": [
        "# Advanced mathematical operations\n",
        "def exponentiation(a, b):\n",
        "    return a ** b\n",
        "\n",
        "def square_root(a, _):\n",
        "    return math.sqrt(a)\n",
        "\n",
        "def logarithm(a, b):\n",
        "    if a <= 0 or b <= 0:\n",
        "        raise ValueError(\"Logarithm operands must be positive numbers.\")\n",
        "    return math.log(a, b)"
      ],
      "metadata": {
        "id": "bAX6tQZ9303P"
      },
      "execution_count": null,
      "outputs": []
    },
    {
      "cell_type": "code",
      "source": [
        "if __name__ == \"__main__\":\n",
        "    calc = Calculator()\n",
        "    calc.add_operation('^', exponentiation)\n",
        "    calc.add_operation('sqrt', square_root)\n",
        "    calc.add_operation('log', logarithm)\n",
        "\n",
        "    print(\"Welcome to Calculator 2.0\")\n",
        "    print(\"Available operations: +, -, *, /, ^ (exponentiation), sqrt (square root), log (logarithm)\")\n",
        "\n",
        "    while True:\n",
        "        try:\n",
        "            operation = input(\"\\nEnter operation (or 'exit' to quit): \").strip()\n",
        "            if operation.lower() == 'exit':\n",
        "                break\n",
        "\n",
        "            if operation == 'sqrt':\n",
        "                num1 = float(input(\"Enter the number: \"))\n",
        "                num2 = 0\n",
        "            else:\n",
        "                num1 = float(input(\"Enter the first number: \"))\n",
        "                num2 = float(input(\"Enter the second number: \"))\n",
        "\n",
        "            result = calc.calculate(num1, operation, num2)\n",
        "            print(f\"Result: {result}\")\n",
        "\n",
        "        except ValueError as e:\n",
        "            print(f\"Error: {e}\")\n",
        "        except Exception as e:\n",
        "            print(f\"An unexpected error occurred: {e}\")\n",
        "\n",
        "    print(\"Calculator 2.0! Is awesome\")"
      ],
      "metadata": {
        "colab": {
          "base_uri": "https://localhost:8080/"
        },
        "id": "LfvydUv64Au6",
        "outputId": "8c6ae299-4173-45f2-fa76-7f264328a64c"
      },
      "execution_count": 9,
      "outputs": [
        {
          "output_type": "stream",
          "name": "stdout",
          "text": [
            "Welcome to Calculator 2.0\n",
            "Available operations: +, -, *, /, ^ (exponentiation), sqrt (square root), log (logarithm)\n",
            "\n",
            "Enter operation (or 'exit' to quit): sqrt\n",
            "Enter the number: 64\n",
            "Result: 8.0\n",
            "\n",
            "Enter operation (or 'exit' to quit): exit\n",
            "Calculator 2.0! Is awesome\n"
          ]
        }
      ]
    }
  ]
}