{
  "nbformat": 4,
  "nbformat_minor": 0,
  "metadata": {
    "colab": {
      "provenance": [],
      "authorship_tag": "ABX9TyPcwlqdubiAdipaJOiJ5GS9",
      "include_colab_link": true
    },
    "kernelspec": {
      "name": "python3",
      "display_name": "Python 3"
    },
    "language_info": {
      "name": "python"
    }
  },
  "cells": [
    {
      "cell_type": "markdown",
      "metadata": {
        "id": "view-in-github",
        "colab_type": "text"
      },
      "source": [
        "<a href=\"https://colab.research.google.com/github/s0ku00/DTS/blob/main/Python_Pizza.ipynb\" target=\"_parent\"><img src=\"https://colab.research.google.com/assets/colab-badge.svg\" alt=\"Open In Colab\"/></a>"
      ]
    },
    {
      "cell_type": "code",
      "execution_count": null,
      "metadata": {
        "colab": {
          "base_uri": "https://localhost:8080/"
        },
        "id": "yybMNBVTCmGQ",
        "outputId": "7653497e-052b-4e66-a562-91b415849c52"
      },
      "outputs": [
        {
          "output_type": "stream",
          "name": "stdout",
          "text": [
            "Welcome to Python Pizza Deliveries\n"
          ]
        }
      ],
      "source": [
        "print(\"Welcome to Python Pizza Deliveries\")"
      ]
    },
    {
      "cell_type": "code",
      "source": [
        "size = input(\"What size pizza do you want? Small, Medium, or Large? \")"
      ],
      "metadata": {
        "colab": {
          "base_uri": "https://localhost:8080/"
        },
        "id": "HgFzru1cDrlO",
        "outputId": "4a23d1f1-1640-49d9-ae23-64919b7bb7e5"
      },
      "execution_count": null,
      "outputs": [
        {
          "name": "stdout",
          "output_type": "stream",
          "text": [
            "What size pizza do you want? Small, Medium, or Large? Large\n"
          ]
        }
      ]
    },
    {
      "cell_type": "code",
      "source": [
        "add_pepperoni = input(\"Do you want to add pepperoni? 'Yes' or 'No': \").upper()\n"
      ],
      "metadata": {
        "colab": {
          "base_uri": "https://localhost:8080/"
        },
        "id": "Zg0PdBtDEOhC",
        "outputId": "a59b7c20-6476-4053-90e8-d538e0c05e8f"
      },
      "execution_count": null,
      "outputs": [
        {
          "name": "stdout",
          "output_type": "stream",
          "text": [
            "Do you want to add pepperoni? 'Yes' or 'No': No\n"
          ]
        }
      ]
    },
    {
      "cell_type": "code",
      "source": [
        "extra_cheese = input(\"Do you want extra cheese? 'Yes' or 'No': \").upper()\n"
      ],
      "metadata": {
        "colab": {
          "base_uri": "https://localhost:8080/"
        },
        "id": "PPgbMrQNEqTa",
        "outputId": "01d3bbe7-ee01-48c9-fe1a-180a686ef954"
      },
      "execution_count": null,
      "outputs": [
        {
          "name": "stdout",
          "output_type": "stream",
          "text": [
            "Do you want extra cheese? 'Yes' or 'No': Yes\n"
          ]
        }
      ]
    },
    {
      "cell_type": "code",
      "source": [
        "# Price specification\n",
        "pizza_prices = {\n",
        "    \"Small\": 15,\n",
        "    \"Medium\": 20,\n",
        "    \"Large\": 25\n",
        "}"
      ],
      "metadata": {
        "id": "vcvIJzVZFMQM"
      },
      "execution_count": null,
      "outputs": []
    },
    {
      "cell_type": "code",
      "source": [
        "if add_pepperoni == 'Yes':\n",
        "    if size == \"Small\":\n",
        "        pizza_prices[size] += 2\n",
        "    else:\n",
        "        pizza_prices[size] += 3"
      ],
      "metadata": {
        "id": "oSp3wf79FRI9"
      },
      "execution_count": null,
      "outputs": []
    },
    {
      "cell_type": "code",
      "source": [
        "if extra_cheese == 'Yes':\n",
        "    pizza_prices[size] += 1\n"
      ],
      "metadata": {
        "id": "08oJkbSdFbBa"
      },
      "execution_count": null,
      "outputs": []
    },
    {
      "cell_type": "code",
      "source": [
        "print(f\"Your total is: ${pizza_prices[size]}\")\n"
      ],
      "metadata": {
        "colab": {
          "base_uri": "https://localhost:8080/"
        },
        "id": "4QJw0lx_FdWu",
        "outputId": "a4e946cb-dd14-4a25-e464-f920dd094b99"
      },
      "execution_count": null,
      "outputs": [
        {
          "output_type": "stream",
          "name": "stdout",
          "text": [
            "Your total is: $25\n"
          ]
        }
      ]
    }
  ]
}