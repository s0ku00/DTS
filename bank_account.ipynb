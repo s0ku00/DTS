{
  "nbformat": 4,
  "nbformat_minor": 0,
  "metadata": {
    "colab": {
      "provenance": [],
      "authorship_tag": "ABX9TyNQP5t5SdBezi9MrynY84R9",
      "include_colab_link": true
    },
    "kernelspec": {
      "name": "python3",
      "display_name": "Python 3"
    },
    "language_info": {
      "name": "python"
    }
  },
  "cells": [
    {
      "cell_type": "markdown",
      "metadata": {
        "id": "view-in-github",
        "colab_type": "text"
      },
      "source": [
        "<a href=\"https://colab.research.google.com/github/s0ku00/DTS/blob/main/bank_account.ipynb\" target=\"_parent\"><img src=\"https://colab.research.google.com/assets/colab-badge.svg\" alt=\"Open In Colab\"/></a>"
      ]
    },
    {
      "cell_type": "code",
      "execution_count": null,
      "metadata": {
        "id": "vyBqiEfqrBon"
      },
      "outputs": [],
      "source": [
        "class Account:\n",
        "    def __init__(self, account_number, account_balance, account_holder):\n",
        "        self.account_number = account_number\n",
        "        self.account_balance = account_balance\n",
        "        self.account_holder = account_holder\n",
        "\n",
        "def deposit(self, amount):\n",
        "        if amount > 0:\n",
        "            self.account_balance += amount\n",
        "            print(\"Deposit of $\", amount, \"successful.\")\n",
        "        else:\n",
        "            print(\"Invalid deposit amount.\")\n",
        "\n",
        "def withdraw(self, amount):\n",
        "        if amount > 0 and amount <= self.account_balance:\n",
        "            self.account_balance -= amount\n",
        "            print(\"Withdrawal of $\", amount, \"successful.\")\n",
        "        else:\n",
        "            print(\"Insufficient funds or invalid withdrawal amount.\")\n",
        "\n",
        "def check_balance(self):\n",
        "        return self.account_balance\n",
        "\n",
        "my_account = Account(\"0093764444\", 1000.0, \"Sophia Kones\")\n",
        "\n"
      ]
    }
  ]
}