{
  "nbformat": 4,
  "nbformat_minor": 0,
  "metadata": {
    "colab": {
      "provenance": [],
      "authorship_tag": "ABX9TyO1QzVFB7qh1HmD3xBqCsWs",
      "include_colab_link": true
    },
    "kernelspec": {
      "name": "python3",
      "display_name": "Python 3"
    },
    "language_info": {
      "name": "python"
    }
  },
  "cells": [
    {
      "cell_type": "markdown",
      "metadata": {
        "id": "view-in-github",
        "colab_type": "text"
      },
      "source": [
        "<a href=\"https://colab.research.google.com/github/s0ku00/DTS/blob/main/Face_Detection.ipynb\" target=\"_parent\"><img src=\"https://colab.research.google.com/assets/colab-badge.svg\" alt=\"Open In Colab\"/></a>"
      ]
    },
    {
      "cell_type": "code",
      "source": [
        "!pip install streamlit"
      ],
      "metadata": {
        "colab": {
          "base_uri": "https://localhost:8080/"
        },
        "collapsed": true,
        "id": "ZTgFwMJSpNwv",
        "outputId": "087fe230-b14a-431a-8bff-8d5dfbcc5c6e"
      },
      "execution_count": 1,
      "outputs": [
        {
          "output_type": "stream",
          "name": "stdout",
          "text": [
            "Collecting streamlit\n",
            "  Downloading streamlit-1.38.0-py2.py3-none-any.whl.metadata (8.5 kB)\n",
            "Requirement already satisfied: altair<6,>=4.0 in /usr/local/lib/python3.10/dist-packages (from streamlit) (4.2.2)\n",
            "Requirement already satisfied: blinker<2,>=1.0.0 in /usr/lib/python3/dist-packages (from streamlit) (1.4)\n",
            "Requirement already satisfied: cachetools<6,>=4.0 in /usr/local/lib/python3.10/dist-packages (from streamlit) (5.5.0)\n",
            "Requirement already satisfied: click<9,>=7.0 in /usr/local/lib/python3.10/dist-packages (from streamlit) (8.1.7)\n",
            "Requirement already satisfied: numpy<3,>=1.20 in /usr/local/lib/python3.10/dist-packages (from streamlit) (1.26.4)\n",
            "Requirement already satisfied: packaging<25,>=20 in /usr/local/lib/python3.10/dist-packages (from streamlit) (24.1)\n",
            "Requirement already satisfied: pandas<3,>=1.3.0 in /usr/local/lib/python3.10/dist-packages (from streamlit) (2.1.4)\n",
            "Requirement already satisfied: pillow<11,>=7.1.0 in /usr/local/lib/python3.10/dist-packages (from streamlit) (10.4.0)\n",
            "Requirement already satisfied: protobuf<6,>=3.20 in /usr/local/lib/python3.10/dist-packages (from streamlit) (3.20.3)\n",
            "Requirement already satisfied: pyarrow>=7.0 in /usr/local/lib/python3.10/dist-packages (from streamlit) (14.0.2)\n",
            "Requirement already satisfied: requests<3,>=2.27 in /usr/local/lib/python3.10/dist-packages (from streamlit) (2.32.3)\n",
            "Requirement already satisfied: rich<14,>=10.14.0 in /usr/local/lib/python3.10/dist-packages (from streamlit) (13.8.1)\n",
            "Collecting tenacity<9,>=8.1.0 (from streamlit)\n",
            "  Downloading tenacity-8.5.0-py3-none-any.whl.metadata (1.2 kB)\n",
            "Requirement already satisfied: toml<2,>=0.10.1 in /usr/local/lib/python3.10/dist-packages (from streamlit) (0.10.2)\n",
            "Requirement already satisfied: typing-extensions<5,>=4.3.0 in /usr/local/lib/python3.10/dist-packages (from streamlit) (4.12.2)\n",
            "Collecting gitpython!=3.1.19,<4,>=3.0.7 (from streamlit)\n",
            "  Downloading GitPython-3.1.43-py3-none-any.whl.metadata (13 kB)\n",
            "Collecting pydeck<1,>=0.8.0b4 (from streamlit)\n",
            "  Downloading pydeck-0.9.1-py2.py3-none-any.whl.metadata (4.1 kB)\n",
            "Requirement already satisfied: tornado<7,>=6.0.3 in /usr/local/lib/python3.10/dist-packages (from streamlit) (6.3.3)\n",
            "Collecting watchdog<5,>=2.1.5 (from streamlit)\n",
            "  Downloading watchdog-4.0.2-py3-none-manylinux2014_x86_64.whl.metadata (38 kB)\n",
            "Requirement already satisfied: entrypoints in /usr/local/lib/python3.10/dist-packages (from altair<6,>=4.0->streamlit) (0.4)\n",
            "Requirement already satisfied: jinja2 in /usr/local/lib/python3.10/dist-packages (from altair<6,>=4.0->streamlit) (3.1.4)\n",
            "Requirement already satisfied: jsonschema>=3.0 in /usr/local/lib/python3.10/dist-packages (from altair<6,>=4.0->streamlit) (4.23.0)\n",
            "Requirement already satisfied: toolz in /usr/local/lib/python3.10/dist-packages (from altair<6,>=4.0->streamlit) (0.12.1)\n",
            "Collecting gitdb<5,>=4.0.1 (from gitpython!=3.1.19,<4,>=3.0.7->streamlit)\n",
            "  Downloading gitdb-4.0.11-py3-none-any.whl.metadata (1.2 kB)\n",
            "Requirement already satisfied: python-dateutil>=2.8.2 in /usr/local/lib/python3.10/dist-packages (from pandas<3,>=1.3.0->streamlit) (2.8.2)\n",
            "Requirement already satisfied: pytz>=2020.1 in /usr/local/lib/python3.10/dist-packages (from pandas<3,>=1.3.0->streamlit) (2024.2)\n",
            "Requirement already satisfied: tzdata>=2022.1 in /usr/local/lib/python3.10/dist-packages (from pandas<3,>=1.3.0->streamlit) (2024.1)\n",
            "Requirement already satisfied: charset-normalizer<4,>=2 in /usr/local/lib/python3.10/dist-packages (from requests<3,>=2.27->streamlit) (3.3.2)\n",
            "Requirement already satisfied: idna<4,>=2.5 in /usr/local/lib/python3.10/dist-packages (from requests<3,>=2.27->streamlit) (3.10)\n",
            "Requirement already satisfied: urllib3<3,>=1.21.1 in /usr/local/lib/python3.10/dist-packages (from requests<3,>=2.27->streamlit) (2.2.3)\n",
            "Requirement already satisfied: certifi>=2017.4.17 in /usr/local/lib/python3.10/dist-packages (from requests<3,>=2.27->streamlit) (2024.8.30)\n",
            "Requirement already satisfied: markdown-it-py>=2.2.0 in /usr/local/lib/python3.10/dist-packages (from rich<14,>=10.14.0->streamlit) (3.0.0)\n",
            "Requirement already satisfied: pygments<3.0.0,>=2.13.0 in /usr/local/lib/python3.10/dist-packages (from rich<14,>=10.14.0->streamlit) (2.18.0)\n",
            "Collecting smmap<6,>=3.0.1 (from gitdb<5,>=4.0.1->gitpython!=3.1.19,<4,>=3.0.7->streamlit)\n",
            "  Downloading smmap-5.0.1-py3-none-any.whl.metadata (4.3 kB)\n",
            "Requirement already satisfied: MarkupSafe>=2.0 in /usr/local/lib/python3.10/dist-packages (from jinja2->altair<6,>=4.0->streamlit) (2.1.5)\n",
            "Requirement already satisfied: attrs>=22.2.0 in /usr/local/lib/python3.10/dist-packages (from jsonschema>=3.0->altair<6,>=4.0->streamlit) (24.2.0)\n",
            "Requirement already satisfied: jsonschema-specifications>=2023.03.6 in /usr/local/lib/python3.10/dist-packages (from jsonschema>=3.0->altair<6,>=4.0->streamlit) (2023.12.1)\n",
            "Requirement already satisfied: referencing>=0.28.4 in /usr/local/lib/python3.10/dist-packages (from jsonschema>=3.0->altair<6,>=4.0->streamlit) (0.35.1)\n",
            "Requirement already satisfied: rpds-py>=0.7.1 in /usr/local/lib/python3.10/dist-packages (from jsonschema>=3.0->altair<6,>=4.0->streamlit) (0.20.0)\n",
            "Requirement already satisfied: mdurl~=0.1 in /usr/local/lib/python3.10/dist-packages (from markdown-it-py>=2.2.0->rich<14,>=10.14.0->streamlit) (0.1.2)\n",
            "Requirement already satisfied: six>=1.5 in /usr/local/lib/python3.10/dist-packages (from python-dateutil>=2.8.2->pandas<3,>=1.3.0->streamlit) (1.16.0)\n",
            "Downloading streamlit-1.38.0-py2.py3-none-any.whl (8.7 MB)\n",
            "\u001b[2K   \u001b[90m━━━━━━━━━━━━━━━━━━━━━━━━━━━━━━━━━━━━━━━━\u001b[0m \u001b[32m8.7/8.7 MB\u001b[0m \u001b[31m25.4 MB/s\u001b[0m eta \u001b[36m0:00:00\u001b[0m\n",
            "\u001b[?25hDownloading GitPython-3.1.43-py3-none-any.whl (207 kB)\n",
            "\u001b[2K   \u001b[90m━━━━━━━━━━━━━━━━━━━━━━━━━━━━━━━━━━━━━━━━\u001b[0m \u001b[32m207.3/207.3 kB\u001b[0m \u001b[31m8.3 MB/s\u001b[0m eta \u001b[36m0:00:00\u001b[0m\n",
            "\u001b[?25hDownloading pydeck-0.9.1-py2.py3-none-any.whl (6.9 MB)\n",
            "\u001b[2K   \u001b[90m━━━━━━━━━━━━━━━━━━━━━━━━━━━━━━━━━━━━━━━━\u001b[0m \u001b[32m6.9/6.9 MB\u001b[0m \u001b[31m25.4 MB/s\u001b[0m eta \u001b[36m0:00:00\u001b[0m\n",
            "\u001b[?25hDownloading tenacity-8.5.0-py3-none-any.whl (28 kB)\n",
            "Downloading watchdog-4.0.2-py3-none-manylinux2014_x86_64.whl (82 kB)\n",
            "\u001b[2K   \u001b[90m━━━━━━━━━━━━━━━━━━━━━━━━━━━━━━━━━━━━━━━━\u001b[0m \u001b[32m82.9/82.9 kB\u001b[0m \u001b[31m4.7 MB/s\u001b[0m eta \u001b[36m0:00:00\u001b[0m\n",
            "\u001b[?25hDownloading gitdb-4.0.11-py3-none-any.whl (62 kB)\n",
            "\u001b[2K   \u001b[90m━━━━━━━━━━━━━━━━━━━━━━━━━━━━━━━━━━━━━━━━\u001b[0m \u001b[32m62.7/62.7 kB\u001b[0m \u001b[31m1.9 MB/s\u001b[0m eta \u001b[36m0:00:00\u001b[0m\n",
            "\u001b[?25hDownloading smmap-5.0.1-py3-none-any.whl (24 kB)\n",
            "Installing collected packages: watchdog, tenacity, smmap, pydeck, gitdb, gitpython, streamlit\n",
            "  Attempting uninstall: tenacity\n",
            "    Found existing installation: tenacity 9.0.0\n",
            "    Uninstalling tenacity-9.0.0:\n",
            "      Successfully uninstalled tenacity-9.0.0\n",
            "Successfully installed gitdb-4.0.11 gitpython-3.1.43 pydeck-0.9.1 smmap-5.0.1 streamlit-1.38.0 tenacity-8.5.0 watchdog-4.0.2\n"
          ]
        }
      ]
    },
    {
      "cell_type": "code",
      "execution_count": 5,
      "metadata": {
        "colab": {
          "base_uri": "https://localhost:8080/"
        },
        "id": "RuGBr5SpmazO",
        "outputId": "703eb2ce-fa15-4bd9-f5b8-7011a1ff2933"
      },
      "outputs": [
        {
          "output_type": "stream",
          "name": "stdout",
          "text": [
            "Overwriting app.py\n"
          ]
        }
      ],
      "source": [
        "%%writefile app.py\n",
        "\n",
        "import cv2\n",
        "import streamlit as st\n",
        "import numpy as np\n",
        "import os\n",
        "\n",
        "# Load the pre-trained face detector\n",
        "face_cascade = cv2.CascadeClassifier('C:/Users/djebb/Downloads/haarcascade_frontalface_default.xml')\n",
        "\n",
        "def detect_faces(color, scaleFactor, minNeighbors):\n",
        "    # Initialize the webcam\n",
        "    cap = cv2.VideoCapture(0)\n",
        "\n",
        "    stframe = st.empty()  # Placeholder for displaying frames\n",
        "\n",
        "    # Create a directory to save images\n",
        "    if not os.path.exists(\"detected_faces\"):\n",
        "        os.makedirs(\"detected_faces\")\n",
        "\n",
        "    img_count = 0\n",
        "\n",
        "    while True:\n",
        "        # Capture frame from webcam\n",
        "        ret, frame = cap.read()\n",
        "        if not ret:\n",
        "            st.write(\"Failed to capture image\")\n",
        "            break\n",
        "\n",
        "        # Convert frame to grayscale\n",
        "        gray = cv2.cvtColor(frame, cv2.COLOR_BGR2GRAY)\n",
        "\n",
        "        # Detect faces\n",
        "        faces = face_cascade.detectMultiScale(gray, scaleFactor=scaleFactor, minNeighbors=minNeighbors)\n",
        "\n",
        "        # Draw rectangles around faces\n",
        "        for (x, y, w, h) in faces:\n",
        "            cv2.rectangle(frame, (x, y), (x + w, y + h), color, 2)\n",
        "\n",
        "        # Convert BGR to RGB for Streamlit\n",
        "        frame_rgb = cv2.cvtColor(frame, cv2.COLOR_BGR2RGB)\n",
        "\n",
        "        # Display the frame in Streamlit\n",
        "        stframe.image(frame_rgb, channels=\"RGB\")\n",
        "\n",
        "        # Save the frame if faces are detected\n",
        "        if len(faces) > 0:\n",
        "            img_path = f\"detected_faces/face_{img_count}.jpg\"\n",
        "            cv2.imwrite(img_path, frame)\n",
        "            img_count += 1\n",
        "            st.write(f\"Image saved as: {img_path}\")\n",
        "\n",
        "        # Break if 'q' is pressed (for local testing, might not apply in Streamlit)\n",
        "        if cv2.waitKey(1) & 0xFF == ord('q'):\n",
        "            break\n",
        "\n",
        "    # Release the webcam\n",
        "    cap.release()\n",
        "\n",
        "def app():\n",
        "    st.title(\"Face Detection using Viola-Jones Algorithm\")\n",
        "\n",
        "    # Instructions for users\n",
        "    st.markdown(\"\"\"\n",
        "    ### Instructions:\n",
        "    1. Use the **color picker** to choose the color of the rectangle for detected faces.\n",
        "    2. Adjust the **scaleFactor** and **minNeighbors** sliders to fine-tune face detection sensitivity.\n",
        "    3. Press **Detect Faces** to start the webcam and detect faces in real-time.\n",
        "    4. Images with detected faces will be automatically saved in the **detected_faces** folder.\n",
        "    5. To stop detection, you can close the app or press 'q' in the webcam feed (only for local runs).\n",
        "    \"\"\")\n",
        "\n",
        "    # Feature: Color picker for rectangle color\n",
        "    rectangle_color = st.color_picker(\"Pick the color for face rectangles\", \"#00FF00\")\n",
        "    # Convert the color hex code to BGR format (used by OpenCV)\n",
        "    r, g, b = tuple(int(rectangle_color[i:i+2], 16) for i in (1, 3, 5))\n",
        "    bgr_color = (b, g, r)\n",
        "\n",
        "    # Feature: Slider to adjust scaleFactor\n",
        "    scaleFactor = st.slider(\"Adjust scaleFactor (Face detection sensitivity)\", 1.0, 2.0, 1.3, step=0.1)\n",
        "\n",
        "    # Feature: Slider to adjust minNeighbors\n",
        "    minNeighbors = st.slider(\"Adjust minNeighbors (Fine-tuning for face detection)\", 1, 10, 5, step=1)\n",
        "\n",
        "    # Button to start face detection\n",
        "    if st.button(\"Detect Faces\"):\n",
        "        detect_faces(bgr_color, scaleFactor, minNeighbors)\n",
        "\n",
        "if __name__ == \"__main__\":\n",
        "    app()"
      ]
    },
    {
      "cell_type": "code",
      "source": [
        "!npm install localtunnel"
      ],
      "metadata": {
        "colab": {
          "base_uri": "https://localhost:8080/"
        },
        "id": "TDN5M7CupasV",
        "outputId": "15f36e08-1f6f-41db-8d59-56e6b8beae5d"
      },
      "execution_count": 3,
      "outputs": [
        {
          "output_type": "stream",
          "name": "stdout",
          "text": [
            "\u001b[K\u001b[?25h\n",
            "added 22 packages, and audited 23 packages in 1s\n",
            "\n",
            "3 packages are looking for funding\n",
            "  run `npm fund` for details\n",
            "\n",
            "2 \u001b[33m\u001b[1mmoderate\u001b[22m\u001b[39m severity vulnerabilities\n",
            "\n",
            "To address all issues, run:\n",
            "  npm audit fix\n",
            "\n",
            "Run `npm audit` for details.\n"
          ]
        }
      ]
    },
    {
      "cell_type": "code",
      "source": [
        "!streamlit run app.py & npx localtunnel --port 8501 & curl -s ipv4.icanhazip.com"
      ],
      "metadata": {
        "colab": {
          "base_uri": "https://localhost:8080/"
        },
        "id": "PKwGrJVNpgZ-",
        "outputId": "04a00ac6-067a-4f7a-fd6d-31a73972cb1c"
      },
      "execution_count": 6,
      "outputs": [
        {
          "output_type": "stream",
          "name": "stdout",
          "text": [
            "34.105.86.115\n",
            "\n",
            "Collecting usage statistics. To deactivate, set browser.gatherUsageStats to false.\n",
            "\u001b[0m\n",
            "\u001b[0m\n",
            "\u001b[34m\u001b[1m  You can now view your Streamlit app in your browser.\u001b[0m\n",
            "\u001b[0m\n",
            "\u001b[34m  Local URL: \u001b[0m\u001b[1mhttp://localhost:8501\u001b[0m\n",
            "\u001b[34m  Network URL: \u001b[0m\u001b[1mhttp://172.28.0.12:8501\u001b[0m\n",
            "\u001b[34m  External URL: \u001b[0m\u001b[1mhttp://34.105.86.115:8501\u001b[0m\n",
            "\u001b[0m\n",
            "your url is: https://salty-states-lay.loca.lt\n",
            "[ERROR:0@0.022] global persistence.cpp:531 open Can't open file: 'C:/Users/djebb/Downloads/haarcascade_frontalface_default.xml' in read mode\n",
            "[ERROR:1@10.937] global persistence.cpp:531 open Can't open file: 'C:/Users/djebb/Downloads/haarcascade_frontalface_default.xml' in read mode\n",
            "[ WARN:1@10.941] global cap_v4l.cpp:999 open VIDEOIO(V4L2:/dev/video0): can't open camera by index\n",
            "[ERROR:1@10.942] global obsensor_uvc_stream_channel.cpp:158 getStreamChannelGroup Camera index out of range\n",
            "[ERROR:2@25.774] global persistence.cpp:531 open Can't open file: 'C:/Users/djebb/Downloads/haarcascade_frontalface_default.xml' in read mode\n",
            "[ERROR:3@28.704] global persistence.cpp:531 open Can't open file: 'C:/Users/djebb/Downloads/haarcascade_frontalface_default.xml' in read mode\n",
            "[ WARN:3@28.709] global cap_v4l.cpp:999 open VIDEOIO(V4L2:/dev/video0): can't open camera by index\n",
            "[ERROR:3@28.709] global obsensor_uvc_stream_channel.cpp:158 getStreamChannelGroup Camera index out of range\n",
            "[ERROR:4@79.424] global persistence.cpp:531 open Can't open file: 'C:/Users/djebb/Downloads/haarcascade_frontalface_default.xml' in read mode\n",
            "[ WARN:4@79.428] global cap_v4l.cpp:999 open VIDEOIO(V4L2:/dev/video0): can't open camera by index\n",
            "[ERROR:4@79.429] global obsensor_uvc_stream_channel.cpp:158 getStreamChannelGroup Camera index out of range\n",
            "[ERROR:5@313.114] global persistence.cpp:531 open Can't open file: 'C:/Users/djebb/Downloads/haarcascade_frontalface_default.xml' in read mode\n",
            "[ WARN:5@313.121] global cap_v4l.cpp:999 open VIDEOIO(V4L2:/dev/video0): can't open camera by index\n",
            "[ERROR:5@313.122] global obsensor_uvc_stream_channel.cpp:158 getStreamChannelGroup Camera index out of range\n",
            "[ERROR:6@314.316] global persistence.cpp:531 open Can't open file: 'C:/Users/djebb/Downloads/haarcascade_frontalface_default.xml' in read mode\n",
            "[ WARN:6@314.321] global cap_v4l.cpp:999 open VIDEOIO(V4L2:/dev/video0): can't open camera by index\n",
            "[ERROR:6@314.322] global obsensor_uvc_stream_channel.cpp:158 getStreamChannelGroup Camera index out of range\n",
            "[ERROR:7@315.118] global persistence.cpp:531 open Can't open file: 'C:/Users/djebb/Downloads/haarcascade_frontalface_default.xml' in read mode\n",
            "[ WARN:7@315.122] global cap_v4l.cpp:999 open VIDEOIO(V4L2:/dev/video0): can't open camera by index\n",
            "[ERROR:7@315.122] global obsensor_uvc_stream_channel.cpp:158 getStreamChannelGroup Camera index out of range\n",
            "\u001b[34m  Stopping...\u001b[0m\n"
          ]
        }
      ]
    }
  ]
}